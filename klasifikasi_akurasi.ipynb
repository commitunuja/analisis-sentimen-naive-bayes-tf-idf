{
 "cells": [
  {
   "cell_type": "code",
   "execution_count": 1,
   "metadata": {},
   "outputs": [
    {
     "data": {
      "text/html": [
       "<div>\n",
       "<style scoped>\n",
       "    .dataframe tbody tr th:only-of-type {\n",
       "        vertical-align: middle;\n",
       "    }\n",
       "\n",
       "    .dataframe tbody tr th {\n",
       "        vertical-align: top;\n",
       "    }\n",
       "\n",
       "    .dataframe thead th {\n",
       "        text-align: right;\n",
       "    }\n",
       "</style>\n",
       "<table border=\"1\" class=\"dataframe\">\n",
       "  <thead>\n",
       "    <tr style=\"text-align: right;\">\n",
       "      <th></th>\n",
       "      <th>Unnamed: 0</th>\n",
       "      <th>tweet</th>\n",
       "      <th>tweet_cf</th>\n",
       "      <th>tweet_clean</th>\n",
       "      <th>tweet_clean_alay</th>\n",
       "      <th>tweet_token</th>\n",
       "      <th>tweet_stopword</th>\n",
       "      <th>tweet_normalisasi</th>\n",
       "      <th>tweet_stemming</th>\n",
       "      <th>tweet_join</th>\n",
       "      <th>jumlah_polarity</th>\n",
       "      <th>sentimen</th>\n",
       "      <th>tweet_list</th>\n",
       "      <th>TF_dict</th>\n",
       "      <th>TF-IDF_dict</th>\n",
       "      <th>TF_IDF_Vec</th>\n",
       "      <th>hasil_KNN</th>\n",
       "    </tr>\n",
       "  </thead>\n",
       "  <tbody>\n",
       "    <tr>\n",
       "      <th>0</th>\n",
       "      <td>0</td>\n",
       "      <td>Cerita Si Ayam - Diskon 20% menjadi Rp.20000\\r...</td>\n",
       "      <td>cerita si ayam diskon menjadi rp gratis ongkos...</td>\n",
       "      <td>cerita si ayam diskon menjadi rp gratis ongkos...</td>\n",
       "      <td>cerita sih ayam diskon menjadi rupiah gratis o...</td>\n",
       "      <td>['cerita', 'sih', 'ayam', 'diskon', 'menjadi',...</td>\n",
       "      <td>['cerita', 'ayam', 'diskon', 'rupiah', 'gratis...</td>\n",
       "      <td>['cerita', 'ayam', 'diskon', 'rupiah', 'gratis...</td>\n",
       "      <td>['cerita', 'ayam', 'diskon', 'rupiah', 'gratis...</td>\n",
       "      <td>cerita ayam diskon rupiah gratis ongkos kirim ...</td>\n",
       "      <td>5</td>\n",
       "      <td>positif</td>\n",
       "      <td>['cerita', 'ayam', 'diskon', 'rupiah', 'gratis...</td>\n",
       "      <td>{'cerita': 0.06666666666666667, 'ayam': 0.0666...</td>\n",
       "      <td>{'cerita': 0.3025816724386625, 'ayam': 0.33988...</td>\n",
       "      <td>[0.0, 0.0, 0.0, 0.0, 0.0, 0.0, 0.0, 0.0, 0.0, ...</td>\n",
       "      <td>positif</td>\n",
       "    </tr>\n",
       "    <tr>\n",
       "      <th>1</th>\n",
       "      <td>1</td>\n",
       "      <td>Buku Aktivitas Mengenal Hewan - Diskon 20% men...</td>\n",
       "      <td>buku aktivitas mengenal hewan diskon menjadi r...</td>\n",
       "      <td>buku aktivitas mengenal hewan diskon menjadi r...</td>\n",
       "      <td>buku aktivitas mengenal hewan diskon menjadi r...</td>\n",
       "      <td>['buku', 'aktivitas', 'mengenal', 'hewan', 'di...</td>\n",
       "      <td>['buku', 'aktivitas', 'mengenal', 'hewan', 'di...</td>\n",
       "      <td>['buku', 'aktivitas', 'mengenal', 'hewan', 'di...</td>\n",
       "      <td>['buku', 'aktivitas', 'kenal', 'hewan', 'disko...</td>\n",
       "      <td>buku aktivitas kenal hewan diskon rupiah grati...</td>\n",
       "      <td>13</td>\n",
       "      <td>positif</td>\n",
       "      <td>['buku', 'aktivitas', 'kenal', 'hewan', 'disko...</td>\n",
       "      <td>{'buku': 0.11764705882352941, 'aktivitas': 0.0...</td>\n",
       "      <td>{'buku': 0.5044012539175332, 'aktivitas': 0.31...</td>\n",
       "      <td>[0.0, 0.0, 0.0, 0.0, 0.0, 0.0, 0.0, 0.0, 0.0, ...</td>\n",
       "      <td>negatif</td>\n",
       "    </tr>\n",
       "    <tr>\n",
       "      <th>2</th>\n",
       "      <td>2</td>\n",
       "      <td>Seri Adab Makan dan Minum - Diskon 20% menjadi...</td>\n",
       "      <td>seri adab makan dan minum diskon menjadi rp gr...</td>\n",
       "      <td>seri adab makan dan minum diskon menjadi rp gr...</td>\n",
       "      <td>seri adab makan dan minum diskon menjadi rupia...</td>\n",
       "      <td>['seri', 'adab', 'makan', 'dan', 'minum', 'dis...</td>\n",
       "      <td>['seri', 'adab', 'makan', 'minum', 'diskon', '...</td>\n",
       "      <td>['seri', 'adab', 'makan', 'minum', 'diskon', '...</td>\n",
       "      <td>['seri', 'adab', 'makan', 'minum', 'diskon', '...</td>\n",
       "      <td>seri adab makan minum diskon rupiah gratis ong...</td>\n",
       "      <td>11</td>\n",
       "      <td>positif</td>\n",
       "      <td>['seri', 'adab', 'makan', 'minum', 'diskon', '...</td>\n",
       "      <td>{'seri': 0.05263157894736842, 'adab': 0.052631...</td>\n",
       "      <td>{'seri': 0.22565319254205432, 'adab': 0.231852...</td>\n",
       "      <td>[0.0, 0.0, 0.0, 0.0, 0.0, 0.0, 0.0, 0.0, 0.0, ...</td>\n",
       "      <td>positif</td>\n",
       "    </tr>\n",
       "    <tr>\n",
       "      <th>3</th>\n",
       "      <td>3</td>\n",
       "      <td>Update Perkembangan Covid-19 di Kabupaten Luwu...</td>\n",
       "      <td>update perkembangan covid di kabupaten luwu ti...</td>\n",
       "      <td>update perkembangan covid di kabupaten luwu ti...</td>\n",
       "      <td>pembaruan perkembangan covid di kabupaten luwu...</td>\n",
       "      <td>['pembaruan', 'perkembangan', 'covid', 'di', '...</td>\n",
       "      <td>['pembaruan', 'perkembangan', 'covid', 'kabupa...</td>\n",
       "      <td>['pembaruan', 'perkembangan', 'covid', 'kabupa...</td>\n",
       "      <td>['baru', 'kembang', 'covid', 'kabupaten', 'luw...</td>\n",
       "      <td>baru kembang covid kabupaten luwu timur april ...</td>\n",
       "      <td>5</td>\n",
       "      <td>positif</td>\n",
       "      <td>['baru', 'kembang', 'covid', 'kabupaten', 'luw...</td>\n",
       "      <td>{'baru': 0.1, 'kembang': 0.1, 'covid': 0.1, 'k...</td>\n",
       "      <td>{'baru': 0.5503805982623525, 'kembang': 0.5098...</td>\n",
       "      <td>[0.0, 0.0, 0.0, 0.0, 0.0, 0.0, 0.0, 0.0, 0.0, ...</td>\n",
       "      <td>positif</td>\n",
       "    </tr>\n",
       "    <tr>\n",
       "      <th>4</th>\n",
       "      <td>4</td>\n",
       "      <td>Seri Adab Berbicara - Diskon 20% menjadi Rp.20...</td>\n",
       "      <td>seri adab berbicara diskon menjadi rp gratis o...</td>\n",
       "      <td>seri adab berbicara diskon menjadi rp gratis o...</td>\n",
       "      <td>seri adab berbicara diskon menjadi rupiah grat...</td>\n",
       "      <td>['seri', 'adab', 'berbicara', 'diskon', 'menja...</td>\n",
       "      <td>['seri', 'adab', 'berbicara', 'diskon', 'rupia...</td>\n",
       "      <td>['seri', 'adab', 'berbicara', 'diskon', 'rupia...</td>\n",
       "      <td>['seri', 'adab', 'bicara', 'diskon', 'rupiah',...</td>\n",
       "      <td>seri adab bicara diskon rupiah gratis ongkos k...</td>\n",
       "      <td>2</td>\n",
       "      <td>positif</td>\n",
       "      <td>['seri', 'adab', 'bicara', 'diskon', 'rupiah',...</td>\n",
       "      <td>{'seri': 0.058823529411764705, 'adab': 0.05882...</td>\n",
       "      <td>{'seri': 0.2522006269587666, 'adab': 0.2591290...</td>\n",
       "      <td>[0.0, 0.0, 0.0, 0.0, 0.0, 0.0, 0.0, 0.0, 0.0, ...</td>\n",
       "      <td>positif</td>\n",
       "    </tr>\n",
       "  </tbody>\n",
       "</table>\n",
       "</div>"
      ],
      "text/plain": [
       "   Unnamed: 0                                              tweet  \\\n",
       "0           0  Cerita Si Ayam - Diskon 20% menjadi Rp.20000\\r...   \n",
       "1           1  Buku Aktivitas Mengenal Hewan - Diskon 20% men...   \n",
       "2           2  Seri Adab Makan dan Minum - Diskon 20% menjadi...   \n",
       "3           3  Update Perkembangan Covid-19 di Kabupaten Luwu...   \n",
       "4           4  Seri Adab Berbicara - Diskon 20% menjadi Rp.20...   \n",
       "\n",
       "                                            tweet_cf  \\\n",
       "0  cerita si ayam diskon menjadi rp gratis ongkos...   \n",
       "1  buku aktivitas mengenal hewan diskon menjadi r...   \n",
       "2  seri adab makan dan minum diskon menjadi rp gr...   \n",
       "3  update perkembangan covid di kabupaten luwu ti...   \n",
       "4  seri adab berbicara diskon menjadi rp gratis o...   \n",
       "\n",
       "                                         tweet_clean  \\\n",
       "0  cerita si ayam diskon menjadi rp gratis ongkos...   \n",
       "1  buku aktivitas mengenal hewan diskon menjadi r...   \n",
       "2  seri adab makan dan minum diskon menjadi rp gr...   \n",
       "3  update perkembangan covid di kabupaten luwu ti...   \n",
       "4  seri adab berbicara diskon menjadi rp gratis o...   \n",
       "\n",
       "                                    tweet_clean_alay  \\\n",
       "0  cerita sih ayam diskon menjadi rupiah gratis o...   \n",
       "1  buku aktivitas mengenal hewan diskon menjadi r...   \n",
       "2  seri adab makan dan minum diskon menjadi rupia...   \n",
       "3  pembaruan perkembangan covid di kabupaten luwu...   \n",
       "4  seri adab berbicara diskon menjadi rupiah grat...   \n",
       "\n",
       "                                         tweet_token  \\\n",
       "0  ['cerita', 'sih', 'ayam', 'diskon', 'menjadi',...   \n",
       "1  ['buku', 'aktivitas', 'mengenal', 'hewan', 'di...   \n",
       "2  ['seri', 'adab', 'makan', 'dan', 'minum', 'dis...   \n",
       "3  ['pembaruan', 'perkembangan', 'covid', 'di', '...   \n",
       "4  ['seri', 'adab', 'berbicara', 'diskon', 'menja...   \n",
       "\n",
       "                                      tweet_stopword  \\\n",
       "0  ['cerita', 'ayam', 'diskon', 'rupiah', 'gratis...   \n",
       "1  ['buku', 'aktivitas', 'mengenal', 'hewan', 'di...   \n",
       "2  ['seri', 'adab', 'makan', 'minum', 'diskon', '...   \n",
       "3  ['pembaruan', 'perkembangan', 'covid', 'kabupa...   \n",
       "4  ['seri', 'adab', 'berbicara', 'diskon', 'rupia...   \n",
       "\n",
       "                                   tweet_normalisasi  \\\n",
       "0  ['cerita', 'ayam', 'diskon', 'rupiah', 'gratis...   \n",
       "1  ['buku', 'aktivitas', 'mengenal', 'hewan', 'di...   \n",
       "2  ['seri', 'adab', 'makan', 'minum', 'diskon', '...   \n",
       "3  ['pembaruan', 'perkembangan', 'covid', 'kabupa...   \n",
       "4  ['seri', 'adab', 'berbicara', 'diskon', 'rupia...   \n",
       "\n",
       "                                      tweet_stemming  \\\n",
       "0  ['cerita', 'ayam', 'diskon', 'rupiah', 'gratis...   \n",
       "1  ['buku', 'aktivitas', 'kenal', 'hewan', 'disko...   \n",
       "2  ['seri', 'adab', 'makan', 'minum', 'diskon', '...   \n",
       "3  ['baru', 'kembang', 'covid', 'kabupaten', 'luw...   \n",
       "4  ['seri', 'adab', 'bicara', 'diskon', 'rupiah',...   \n",
       "\n",
       "                                          tweet_join  jumlah_polarity  \\\n",
       "0  cerita ayam diskon rupiah gratis ongkos kirim ...                5   \n",
       "1  buku aktivitas kenal hewan diskon rupiah grati...               13   \n",
       "2  seri adab makan minum diskon rupiah gratis ong...               11   \n",
       "3  baru kembang covid kabupaten luwu timur april ...                5   \n",
       "4  seri adab bicara diskon rupiah gratis ongkos k...                2   \n",
       "\n",
       "  sentimen                                         tweet_list  \\\n",
       "0  positif  ['cerita', 'ayam', 'diskon', 'rupiah', 'gratis...   \n",
       "1  positif  ['buku', 'aktivitas', 'kenal', 'hewan', 'disko...   \n",
       "2  positif  ['seri', 'adab', 'makan', 'minum', 'diskon', '...   \n",
       "3  positif  ['baru', 'kembang', 'covid', 'kabupaten', 'luw...   \n",
       "4  positif  ['seri', 'adab', 'bicara', 'diskon', 'rupiah',...   \n",
       "\n",
       "                                             TF_dict  \\\n",
       "0  {'cerita': 0.06666666666666667, 'ayam': 0.0666...   \n",
       "1  {'buku': 0.11764705882352941, 'aktivitas': 0.0...   \n",
       "2  {'seri': 0.05263157894736842, 'adab': 0.052631...   \n",
       "3  {'baru': 0.1, 'kembang': 0.1, 'covid': 0.1, 'k...   \n",
       "4  {'seri': 0.058823529411764705, 'adab': 0.05882...   \n",
       "\n",
       "                                         TF-IDF_dict  \\\n",
       "0  {'cerita': 0.3025816724386625, 'ayam': 0.33988...   \n",
       "1  {'buku': 0.5044012539175332, 'aktivitas': 0.31...   \n",
       "2  {'seri': 0.22565319254205432, 'adab': 0.231852...   \n",
       "3  {'baru': 0.5503805982623525, 'kembang': 0.5098...   \n",
       "4  {'seri': 0.2522006269587666, 'adab': 0.2591290...   \n",
       "\n",
       "                                          TF_IDF_Vec hasil_KNN  \n",
       "0  [0.0, 0.0, 0.0, 0.0, 0.0, 0.0, 0.0, 0.0, 0.0, ...   positif  \n",
       "1  [0.0, 0.0, 0.0, 0.0, 0.0, 0.0, 0.0, 0.0, 0.0, ...   negatif  \n",
       "2  [0.0, 0.0, 0.0, 0.0, 0.0, 0.0, 0.0, 0.0, 0.0, ...   positif  \n",
       "3  [0.0, 0.0, 0.0, 0.0, 0.0, 0.0, 0.0, 0.0, 0.0, ...   positif  \n",
       "4  [0.0, 0.0, 0.0, 0.0, 0.0, 0.0, 0.0, 0.0, 0.0, ...   positif  "
      ]
     },
     "execution_count": 1,
     "metadata": {},
     "output_type": "execute_result"
    }
   ],
   "source": [
    "import pandas as pd \n",
    "import nltk\n",
    "from sklearn.model_selection import train_test_split\n",
    "from sklearn.feature_extraction.text import TfidfVectorizer\n",
    "from sklearn.neighbors import KNeighborsClassifier\n",
    "from sklearn.pipeline import Pipeline\n",
    "from sklearn.metrics import accuracy_score,precision_score,recall_score,confusion_matrix,classification_report\n",
    "\n",
    "TWEET_DATA = pd.read_excel(\"hasil-klasifikasi.xlsx\")\n",
    "TWEET_DATA.head()\n"
   ]
  },
  {
   "cell_type": "code",
   "execution_count": 156,
   "metadata": {},
   "outputs": [],
   "source": []
  },
  {
   "cell_type": "markdown",
   "metadata": {},
   "source": [
    "# **KNN**"
   ]
  },
  {
   "cell_type": "code",
   "execution_count": 167,
   "metadata": {},
   "outputs": [
    {
     "name": "stdout",
     "output_type": "stream",
     "text": [
      "Banyak data train : 1572\n",
      "Banyak data test  : 393\n"
     ]
    }
   ],
   "source": [
    "X=TWEET_DATA.tweet_join\n",
    "y=TWEET_DATA.hasil_KNN\n",
    "\n",
    "x_train, x_test, y_train, y_test = train_test_split(X,y,test_size = 0.20, random_state = 5)\n",
    "print('Banyak data train :',len(x_train))\n",
    "print('Banyak data test  :',len(x_test))\n",
    "\n",
    "\n"
   ]
  },
  {
   "cell_type": "code",
   "execution_count": 168,
   "metadata": {},
   "outputs": [
    {
     "data": {
      "text/plain": [
       "Pipeline(steps=[('vectorizer', TfidfVectorizer()),\n",
       "                ('classifier', KNeighborsClassifier())])"
      ]
     },
     "execution_count": 168,
     "metadata": {},
     "output_type": "execute_result"
    }
   ],
   "source": [
    "tvec=TfidfVectorizer()\n",
    "clf1 = KNeighborsClassifier()\n",
    "\n",
    "#Pipeline\n",
    "model = Pipeline([('vectorizer',tvec)\n",
    "                 ,('classifier',clf1)])\n",
    "\n",
    "model.fit(x_test,y_test)"
   ]
  },
  {
   "cell_type": "code",
   "execution_count": 169,
   "metadata": {},
   "outputs": [],
   "source": [
    "hasil = model.predict(x_test)"
   ]
  },
  {
   "cell_type": "code",
   "execution_count": 170,
   "metadata": {},
   "outputs": [
    {
     "name": "stdout",
     "output_type": "stream",
     "text": [
      "              precision    recall  f1-score   support\n",
      "\n",
      "     negatif       0.39      0.54      0.45        71\n",
      "      netral       0.00      0.00      0.00         0\n",
      "     positif       0.90      0.80      0.85       322\n",
      "\n",
      "    accuracy                           0.75       393\n",
      "   macro avg       0.43      0.45      0.43       393\n",
      "weighted avg       0.81      0.75      0.78       393\n",
      "\n"
     ]
    },
    {
     "name": "stderr",
     "output_type": "stream",
     "text": [
      "C:\\ProgramData\\Anaconda3\\lib\\site-packages\\sklearn\\metrics\\_classification.py:1221: UndefinedMetricWarning: Recall and F-score are ill-defined and being set to 0.0 in labels with no true samples. Use `zero_division` parameter to control this behavior.\n",
      "  _warn_prf(average, modifier, msg_start, len(result))\n"
     ]
    }
   ],
   "source": [
    "print(classification_report(hasil, y_test))"
   ]
  },
  {
   "cell_type": "code",
   "execution_count": 171,
   "metadata": {},
   "outputs": [
    {
     "name": "stdout",
     "output_type": "stream",
     "text": [
      "Accuracy Score: 75.32\n",
      "Precision Score: 0.43\n",
      "Recall Score: 0.45\n"
     ]
    },
    {
     "name": "stderr",
     "output_type": "stream",
     "text": [
      "C:\\ProgramData\\Anaconda3\\lib\\site-packages\\sklearn\\metrics\\_classification.py:1221: UndefinedMetricWarning: Recall is ill-defined and being set to 0.0 in labels with no true samples. Use `zero_division` parameter to control this behavior.\n",
      "  _warn_prf(average, modifier, msg_start, len(result))\n"
     ]
    }
   ],
   "source": [
    "print(\"Accuracy Score: {:.2f}\".format((accuracy_score(hasil,y_test)*100)))\n",
    "print(\"Precision Score: {:.2f}\".format(precision_score(hasil, y_test, average='macro')))\n",
    "print(\"Recall Score: {:.2f}\".format(recall_score(hasil, y_test, average='macro')))"
   ]
  },
  {
   "cell_type": "markdown",
   "metadata": {},
   "source": [
    "# **LEXICON**"
   ]
  },
  {
   "cell_type": "code",
   "execution_count": 172,
   "metadata": {},
   "outputs": [
    {
     "name": "stdout",
     "output_type": "stream",
     "text": [
      "Banyak data train : 1572\n",
      "Banyak data test  : 393\n"
     ]
    }
   ],
   "source": [
    "A=TWEET_DATA.tweet_join\n",
    "b=TWEET_DATA.sentimen\n",
    "\n",
    "a_train, a_test, b_train, b_test = train_test_split(A,b,test_size = 0.20, random_state = 5)\n",
    "\n",
    "print('Banyak data train :',len(a_train))\n",
    "print('Banyak data test  :',len(a_test))\n"
   ]
  },
  {
   "cell_type": "code",
   "execution_count": 173,
   "metadata": {},
   "outputs": [
    {
     "data": {
      "text/plain": [
       "Pipeline(steps=[('vectorizer', TfidfVectorizer()),\n",
       "                ('classifier', KNeighborsClassifier())])"
      ]
     },
     "execution_count": 173,
     "metadata": {},
     "output_type": "execute_result"
    }
   ],
   "source": [
    "tvec_lxn=TfidfVectorizer()\n",
    "clf1_lxn= KNeighborsClassifier()\n",
    "\n",
    "#Pipeline\n",
    "model_lxn = Pipeline([('vectorizer',tvec_lxn)\n",
    "                 ,('classifier',clf1_lxn)])\n",
    "\n",
    "model_lxn.fit(a_test,b_test)"
   ]
  },
  {
   "cell_type": "code",
   "execution_count": 174,
   "metadata": {},
   "outputs": [],
   "source": [
    "hasil_lxn = model_lxn.predict(a_test)"
   ]
  },
  {
   "cell_type": "code",
   "execution_count": 175,
   "metadata": {},
   "outputs": [
    {
     "name": "stdout",
     "output_type": "stream",
     "text": [
      "              precision    recall  f1-score   support\n",
      "\n",
      "     negatif       0.63      0.68      0.65        99\n",
      "      netral       0.78      0.72      0.75       141\n",
      "     positif       0.75      0.76      0.76       153\n",
      "\n",
      "    accuracy                           0.73       393\n",
      "   macro avg       0.72      0.72      0.72       393\n",
      "weighted avg       0.73      0.73      0.73       393\n",
      "\n"
     ]
    }
   ],
   "source": [
    "print(classification_report(hasil_lxn, b_test))"
   ]
  },
  {
   "cell_type": "code",
   "execution_count": 176,
   "metadata": {},
   "outputs": [
    {
     "name": "stdout",
     "output_type": "stream",
     "text": [
      "Accuracy Score: 72.77\n",
      "Precision Score: 0.72\n",
      "Recall Score: 0.72\n"
     ]
    }
   ],
   "source": [
    "print(\"Accuracy Score: {:.2f}\".format((accuracy_score(hasil_lxn,b_test)*100)))\n",
    "print(\"Precision Score: {:.2f}\".format(precision_score(hasil_lxn, b_test, average='macro')))\n",
    "print(\"Recall Score: {:.2f}\".format(recall_score(hasil_lxn, b_test, average='macro')))"
   ]
  },
  {
   "cell_type": "code",
   "execution_count": null,
   "metadata": {},
   "outputs": [],
   "source": []
  },
  {
   "cell_type": "code",
   "execution_count": null,
   "metadata": {},
   "outputs": [],
   "source": []
  },
  {
   "cell_type": "code",
   "execution_count": null,
   "metadata": {},
   "outputs": [],
   "source": []
  }
 ],
 "metadata": {
  "kernelspec": {
   "display_name": "Python 3",
   "language": "python",
   "name": "python3"
  },
  "language_info": {
   "codemirror_mode": {
    "name": "ipython",
    "version": 3
   },
   "file_extension": ".py",
   "mimetype": "text/x-python",
   "name": "python",
   "nbconvert_exporter": "python",
   "pygments_lexer": "ipython3",
   "version": "3.8.5"
  }
 },
 "nbformat": 4,
 "nbformat_minor": 4
}
